{
  "cells": [
    {
      "cell_type": "code",
      "execution_count": null,
      "id": "3cc9c802",
      "metadata": {
        "id": "3cc9c802"
      },
      "outputs": [],
      "source": [
        "# Import libraries\n",
        "import tensorflow as tf  \n",
        "import numpy as np\n",
        "import matplotlib.pyplot as plt\n",
        "from tensorflow.keras import datasets, layers, models"
      ]
    },
    {
      "cell_type": "code",
      "execution_count": null,
      "id": "59beb557",
      "metadata": {
        "id": "59beb557"
      },
      "outputs": [],
      "source": [
        "# Load the data\n",
        "X_train = np.load('trnImage.npy')\n",
        "y_train = np.load('trnLabel.npy')\n",
        "\n",
        "X_test = np.load('tstImage.npy')\n",
        "y_test = np.load('tstLabel.npy')"
      ]
    },
    {
      "cell_type": "markdown",
      "id": "87f1e4bb",
      "metadata": {
        "id": "87f1e4bb"
      },
      "source": [
        "# Data Preperation"
      ]
    },
    {
      "cell_type": "code",
      "execution_count": null,
      "id": "849fa582",
      "metadata": {
        "id": "849fa582"
      },
      "outputs": [],
      "source": [
        "# Rearranging X_train and y_train\n",
        "X_train = np.transpose(X_train, (3, 0, 1, 2))\n",
        "X_test = np.transpose(X_test, (3, 0, 1, 2))"
      ]
    },
    {
      "cell_type": "code",
      "execution_count": null,
      "id": "6ecb225e",
      "metadata": {
        "id": "6ecb225e",
        "outputId": "0b36eddf-ec8b-4ff3-f064-4194c25e94b0"
      },
      "outputs": [
        {
          "name": "stdout",
          "output_type": "stream",
          "text": [
            "X_train.shape: (10000, 32, 32, 3)\n",
            "y_train.shape: (10000, 1)\n",
            "X_test.shape: (1000, 32, 32, 3)\n",
            "y_test.shape: (1000, 1)\n"
          ]
        }
      ],
      "source": [
        "print(f'X_train.shape: {X_train.shape}')\n",
        "print(f'y_train.shape: {y_train.shape}')\n",
        "print(f'X_test.shape: {X_test.shape}')\n",
        "print(f'y_test.shape: {y_test.shape}')"
      ]
    },
    {
      "cell_type": "code",
      "execution_count": null,
      "id": "f30376e6",
      "metadata": {
        "id": "f30376e6"
      },
      "outputs": [],
      "source": [
        "# Flatten y_train\n",
        "y_train = y_train.reshape(-1,)"
      ]
    },
    {
      "cell_type": "code",
      "execution_count": null,
      "id": "be644cd2",
      "metadata": {
        "id": "be644cd2"
      },
      "outputs": [],
      "source": [
        "classes = ['airplane', 'automobile', 'bird', 'cat', 'dear', 'frog', 'horse', 'ship', 'truck']"
      ]
    },
    {
      "cell_type": "code",
      "execution_count": null,
      "id": "eff9232a",
      "metadata": {
        "id": "eff9232a"
      },
      "outputs": [],
      "source": [
        "def plot_image(x, y, index):\n",
        "    plt.figure(figsize=(15, 2))\n",
        "    plt.imshow(X_train[3])\n",
        "    plt.xlabel(classes[y[index]])"
      ]
    },
    {
      "cell_type": "code",
      "execution_count": null,
      "id": "4e04e7b0",
      "metadata": {
        "id": "4e04e7b0",
        "outputId": "51f33de3-3256-4bec-e447-8aa211084958"
      },
      "outputs": [
        {
          "data": {
            "image/png": "[encoded data removed]",
            "text/plain": [
              "<Figure size 1080x144 with 1 Axes>"
            ]
          },
          "metadata": {
            "needs_background": "light"
          },
          "output_type": "display_data"
        }
      ],
      "source": [
        "plot_image(X_train, y_train, 3)"
      ]
    },
    {
      "cell_type": "code",
      "execution_count": null,
      "id": "cca4d737",
      "metadata": {
        "id": "cca4d737"
      },
      "outputs": [],
      "source": [
        "# Normalize the data\n",
        "X_train = X_train/255\n",
        "X_test = X_test/255"
      ]
    },
    {
      "cell_type": "markdown",
      "id": "417d2d8d",
      "metadata": {
        "id": "417d2d8d"
      },
      "source": [
        "# Neural Network"
      ]
    },
    {
      "cell_type": "code",
      "execution_count": null,
      "id": "0069400f",
      "metadata": {
        "id": "0069400f",
        "outputId": "724dbbf6-8d44-498d-c548-9d30dd9795e0"
      },
      "outputs": [
        {
          "name": "stdout",
          "output_type": "stream",
          "text": [
            "Epoch 1/100\n",
            "313/313 [==============================] - 21s 66ms/step - loss: 2.3020 - accuracy: 0.1116\n",
            "Epoch 2/100\n",
            "313/313 [==============================] - 20s 64ms/step - loss: 2.3013 - accuracy: 0.1396\n",
            "Epoch 3/100\n",
            "313/313 [==============================] - 20s 65ms/step - loss: 2.3009 - accuracy: 0.1397\n",
            "Epoch 4/100\n",
            "313/313 [==============================] - 21s 66ms/step - loss: 2.3007 - accuracy: 0.1389\n",
            "Epoch 5/100\n",
            "313/313 [==============================] - 20s 65ms/step - loss: 2.3006 - accuracy: 0.1450\n",
            "Epoch 6/100\n",
            "313/313 [==============================] - 21s 67ms/step - loss: 2.3004 - accuracy: 0.1584\n",
            "Epoch 7/100\n",
            "313/313 [==============================] - 21s 66ms/step - loss: 2.3002 - accuracy: 0.1440\n",
            "Epoch 8/100\n",
            "313/313 [==============================] - 27s 87ms/step - loss: 2.3000 - accuracy: 0.1550\n",
            "Epoch 9/100\n",
            "313/313 [==============================] - 21s 68ms/step - loss: 2.2999 - accuracy: 0.1456\n",
            "Epoch 10/100\n",
            "313/313 [==============================] - 21s 68ms/step - loss: 2.2997 - accuracy: 0.1463\n",
            "Epoch 11/100\n",
            "313/313 [==============================] - 24s 77ms/step - loss: 2.2995 - accuracy: 0.1547\n",
            "Epoch 12/100\n",
            "313/313 [==============================] - 26s 82ms/step - loss: 2.2994 - accuracy: 0.1487\n",
            "Epoch 13/100\n",
            "313/313 [==============================] - 28s 89ms/step - loss: 2.2992 - accuracy: 0.1463\n",
            "Epoch 14/100\n",
            "313/313 [==============================] - 24s 78ms/step - loss: 2.2990 - accuracy: 0.1648\n",
            "Epoch 15/100\n",
            "313/313 [==============================] - 22s 70ms/step - loss: 2.2988 - accuracy: 0.1534\n",
            "Epoch 16/100\n",
            "313/313 [==============================] - 21s 68ms/step - loss: 2.2986 - accuracy: 0.1453\n",
            "Epoch 17/100\n",
            "313/313 [==============================] - 21s 68ms/step - loss: 2.2985 - accuracy: 0.1706\n",
            "Epoch 18/100\n",
            "313/313 [==============================] - 22s 69ms/step - loss: 2.2983 - accuracy: 0.1753\n",
            "Epoch 19/100\n",
            "313/313 [==============================] - 21s 68ms/step - loss: 2.2981 - accuracy: 0.1532\n",
            "Epoch 20/100\n",
            "313/313 [==============================] - 22s 71ms/step - loss: 2.2979 - accuracy: 0.1729\n",
            "Epoch 21/100\n",
            "313/313 [==============================] - 21s 68ms/step - loss: 2.2976 - accuracy: 0.1714\n",
            "Epoch 22/100\n",
            "313/313 [==============================] - 28s 89ms/step - loss: 2.2974 - accuracy: 0.1851\n",
            "Epoch 23/100\n",
            "313/313 [==============================] - 22s 70ms/step - loss: 2.2972 - accuracy: 0.1805\n",
            "Epoch 24/100\n",
            "313/313 [==============================] - 24s 75ms/step - loss: 2.2969 - accuracy: 0.1557\n",
            "Epoch 25/100\n",
            "313/313 [==============================] - 22s 70ms/step - loss: 2.2967 - accuracy: 0.1897\n",
            "Epoch 26/100\n",
            "313/313 [==============================] - 22s 71ms/step - loss: 2.2964 - accuracy: 0.1997\n",
            "Epoch 27/100\n",
            "313/313 [==============================] - 22s 70ms/step - loss: 2.2961 - accuracy: 0.1759\n",
            "Epoch 28/100\n",
            "313/313 [==============================] - 22s 71ms/step - loss: 2.2958 - accuracy: 0.1850\n",
            "Epoch 29/100\n",
            "313/313 [==============================] - 22s 69ms/step - loss: 2.2955 - accuracy: 0.1738\n",
            "Epoch 30/100\n",
            "313/313 [==============================] - 22s 70ms/step - loss: 2.2951 - accuracy: 0.1676\n",
            "Epoch 31/100\n",
            "313/313 [==============================] - 23s 72ms/step - loss: 2.2949 - accuracy: 0.1729\n",
            "Epoch 32/100\n",
            "313/313 [==============================] - 26s 82ms/step - loss: 2.2945 - accuracy: 0.1903\n",
            "Epoch 33/100\n",
            "313/313 [==============================] - 24s 77ms/step - loss: 2.2941 - accuracy: 0.1845\n",
            "Epoch 34/100\n",
            "313/313 [==============================] - 22s 71ms/step - loss: 2.2938 - accuracy: 0.1940\n",
            "Epoch 35/100\n",
            "313/313 [==============================] - 23s 73ms/step - loss: 2.2934 - accuracy: 0.1803\n",
            "Epoch 36/100\n",
            "313/313 [==============================] - 22s 69ms/step - loss: 2.2929 - accuracy: 0.1924\n",
            "Epoch 37/100\n",
            "313/313 [==============================] - 22s 69ms/step - loss: 2.2923 - accuracy: 0.1849\n",
            "Epoch 38/100\n",
            "313/313 [==============================] - 22s 69ms/step - loss: 2.2920 - accuracy: 0.1812\n",
            "Epoch 39/100\n",
            "313/313 [==============================] - 22s 69ms/step - loss: 2.2913 - accuracy: 0.1842\n",
            "Epoch 40/100\n",
            "313/313 [==============================] - 22s 71ms/step - loss: 2.2909 - accuracy: 0.1778\n",
            "Epoch 41/100\n",
            "313/313 [==============================] - 22s 70ms/step - loss: 2.2904 - accuracy: 0.1905\n",
            "Epoch 42/100\n",
            "313/313 [==============================] - 22s 70ms/step - loss: 2.2897 - accuracy: 0.1933\n",
            "Epoch 43/100\n",
            "313/313 [==============================] - 22s 70ms/step - loss: 2.2890 - accuracy: 0.1966\n",
            "Epoch 44/100\n",
            "313/313 [==============================] - 22s 70ms/step - loss: 2.2885 - accuracy: 0.2073\n",
            "Epoch 45/100\n",
            "313/313 [==============================] - 22s 70ms/step - loss: 2.2878 - accuracy: 0.1937\n",
            "Epoch 46/100\n",
            "313/313 [==============================] - 22s 72ms/step - loss: 2.2870 - accuracy: 0.2104\n",
            "Epoch 47/100\n",
            "313/313 [==============================] - 22s 71ms/step - loss: 2.2862 - accuracy: 0.2032\n",
            "Epoch 48/100\n",
            "313/313 [==============================] - 23s 72ms/step - loss: 2.2853 - accuracy: 0.2035\n",
            "Epoch 49/100\n",
            "313/313 [==============================] - 22s 70ms/step - loss: 2.2845 - accuracy: 0.1901\n",
            "Epoch 50/100\n",
            "313/313 [==============================] - 22s 69ms/step - loss: 2.2835 - accuracy: 0.2004\n",
            "Epoch 51/100\n",
            "313/313 [==============================] - 22s 70ms/step - loss: 2.2825 - accuracy: 0.1980\n",
            "Epoch 52/100\n",
            "313/313 [==============================] - 22s 70ms/step - loss: 2.2813 - accuracy: 0.1964\n",
            "Epoch 53/100\n",
            "313/313 [==============================] - 21s 67ms/step - loss: 2.2802 - accuracy: 0.2116\n",
            "Epoch 54/100\n",
            "313/313 [==============================] - 22s 69ms/step - loss: 2.2789 - accuracy: 0.1869\n",
            "Epoch 55/100\n",
            "313/313 [==============================] - 21s 67ms/step - loss: 2.2776 - accuracy: 0.1920\n",
            "Epoch 56/100\n",
            "313/313 [==============================] - 21s 67ms/step - loss: 2.2763 - accuracy: 0.2023\n",
            "Epoch 57/100\n",
            "313/313 [==============================] - 21s 68ms/step - loss: 2.2749 - accuracy: 0.2085\n",
            "Epoch 58/100\n",
            "313/313 [==============================] - 21s 67ms/step - loss: 2.2732 - accuracy: 0.2023\n",
            "Epoch 59/100\n",
            "313/313 [==============================] - 21s 67ms/step - loss: 2.2716 - accuracy: 0.2057\n",
            "Epoch 60/100\n",
            "313/313 [==============================] - 21s 68ms/step - loss: 2.2697 - accuracy: 0.2054\n",
            "Epoch 61/100\n",
            "313/313 [==============================] - 21s 68ms/step - loss: 2.2679 - accuracy: 0.1960\n",
            "Epoch 62/100\n",
            "313/313 [==============================] - 22s 69ms/step - loss: 2.2656 - accuracy: 0.2127\n",
            "Epoch 63/100\n",
            "313/313 [==============================] - 22s 69ms/step - loss: 2.2636 - accuracy: 0.2026\n",
            "Epoch 64/100\n",
            "313/313 [==============================] - 21s 68ms/step - loss: 2.2613 - accuracy: 0.1977\n",
            "Epoch 65/100\n",
            "313/313 [==============================] - 22s 70ms/step - loss: 2.2591 - accuracy: 0.2009\n",
            "Epoch 66/100\n",
            "313/313 [==============================] - 22s 70ms/step - loss: 2.2563 - accuracy: 0.2022\n",
            "Epoch 67/100\n",
            "313/313 [==============================] - 30043s 96s/step - loss: 2.2534 - accuracy: 0.2025\n",
            "Epoch 68/100\n",
            "313/313 [==============================] - 28s 89ms/step - loss: 2.2509 - accuracy: 0.2009\n",
            "Epoch 69/100\n",
            "313/313 [==============================] - 23s 75ms/step - loss: 2.2479 - accuracy: 0.1980\n",
            "Epoch 70/100\n",
            "313/313 [==============================] - 23s 74ms/step - loss: 2.2446 - accuracy: 0.1999\n",
            "Epoch 71/100\n",
            "313/313 [==============================] - 23s 73ms/step - loss: 2.2414 - accuracy: 0.2012\n",
            "Epoch 72/100\n",
            "313/313 [==============================] - 22s 72ms/step - loss: 2.2375 - accuracy: 0.2036\n",
            "Epoch 73/100\n",
            "313/313 [==============================] - 23s 74ms/step - loss: 2.2343 - accuracy: 0.2063\n",
            "Epoch 74/100\n",
            "313/313 [==============================] - 23s 73ms/step - loss: 2.2307 - accuracy: 0.2047\n",
            "Epoch 75/100\n",
            "313/313 [==============================] - 23s 74ms/step - loss: 2.2269 - accuracy: 0.2019\n",
            "Epoch 76/100\n",
            "313/313 [==============================] - 24s 77ms/step - loss: 2.2230 - accuracy: 0.1987\n",
            "Epoch 77/100\n",
            "313/313 [==============================] - 23s 73ms/step - loss: 2.2187 - accuracy: 0.2008\n",
            "Epoch 78/100\n",
            "313/313 [==============================] - 23s 73ms/step - loss: 2.2150 - accuracy: 0.1998\n",
            "Epoch 79/100\n"
          ]
        },
        {
          "name": "stdout",
          "output_type": "stream",
          "text": [
            "313/313 [==============================] - 22s 69ms/step - loss: 2.2111 - accuracy: 0.2059\n",
            "Epoch 80/100\n",
            "313/313 [==============================] - 22s 71ms/step - loss: 2.2067 - accuracy: 0.2034\n",
            "Epoch 81/100\n",
            "313/313 [==============================] - 22s 69ms/step - loss: 2.2028 - accuracy: 0.2050\n",
            "Epoch 82/100\n",
            "313/313 [==============================] - 22s 72ms/step - loss: 2.1994 - accuracy: 0.2017\n",
            "Epoch 83/100\n",
            "313/313 [==============================] - 21s 67ms/step - loss: 2.1954 - accuracy: 0.2082\n",
            "Epoch 84/100\n",
            "313/313 [==============================] - 21s 67ms/step - loss: 2.1914 - accuracy: 0.2048\n",
            "Epoch 85/100\n",
            "313/313 [==============================] - 22s 70ms/step - loss: 2.1876 - accuracy: 0.2017\n",
            "Epoch 86/100\n",
            "313/313 [==============================] - 22s 69ms/step - loss: 2.1838 - accuracy: 0.2050\n",
            "Epoch 87/100\n",
            "313/313 [==============================] - 21s 67ms/step - loss: 2.1806 - accuracy: 0.2096\n",
            "Epoch 88/100\n",
            "313/313 [==============================] - 21s 67ms/step - loss: 2.1770 - accuracy: 0.2062\n",
            "Epoch 89/100\n",
            "313/313 [==============================] - 21s 68ms/step - loss: 2.1734 - accuracy: 0.2056\n",
            "Epoch 90/100\n",
            "313/313 [==============================] - 21s 66ms/step - loss: 2.1705 - accuracy: 0.2113\n",
            "Epoch 91/100\n",
            "313/313 [==============================] - 21s 66ms/step - loss: 2.1668 - accuracy: 0.2123\n",
            "Epoch 92/100\n",
            "313/313 [==============================] - 21s 67ms/step - loss: 2.1648 - accuracy: 0.2080\n",
            "Epoch 93/100\n",
            "313/313 [==============================] - 22s 69ms/step - loss: 2.1616 - accuracy: 0.2149\n",
            "Epoch 94/100\n",
            "313/313 [==============================] - 22s 71ms/step - loss: 2.1585 - accuracy: 0.2090\n",
            "Epoch 95/100\n",
            "313/313 [==============================] - 22s 70ms/step - loss: 2.1558 - accuracy: 0.2179\n",
            "Epoch 96/100\n",
            "313/313 [==============================] - 22s 69ms/step - loss: 2.1525 - accuracy: 0.2109\n",
            "Epoch 97/100\n",
            "313/313 [==============================] - 21s 68ms/step - loss: 2.1509 - accuracy: 0.2154\n",
            "Epoch 98/100\n",
            "313/313 [==============================] - 22s 69ms/step - loss: 2.1486 - accuracy: 0.2077\n",
            "Epoch 99/100\n",
            "313/313 [==============================] - 22s 69ms/step - loss: 2.1461 - accuracy: 0.2144\n",
            "Epoch 100/100\n",
            "313/313 [==============================] - 21s 68ms/step - loss: 2.1433 - accuracy: 0.2148\n"
          ]
        },
        {
          "data": {
            "text/plain": [
              "<keras.callbacks.History at 0x2830b06be20>"
            ]
          },
          "execution_count": 10,
          "metadata": {},
          "output_type": "execute_result"
        }
      ],
      "source": [
        "nn = models.Sequential([\n",
        "    layers.Flatten(input_shape=(32, 32, 3)),\n",
        "    layers.Dense(3000, activation='relu'),\n",
        "    layers.Dense(1000, activation='relu'),\n",
        "    layers.Dense(10, activation='softmax')\n",
        "])\n",
        "\n",
        "nn.compile(optimizer='SGD',\n",
        "          loss='sparse_categorical_crossentropy',\n",
        "          metrics=['accuracy'])\n",
        "nn.fit(X_train, y_train, epochs=100)"
      ]
    },
    {
      "cell_type": "code",
      "execution_count": null,
      "id": "e7bc57e7",
      "metadata": {
        "id": "e7bc57e7",
        "outputId": "6d853679-839f-42f9-c1ef-2f35808bd405"
      },
      "outputs": [
        {
          "name": "stdout",
          "output_type": "stream",
          "text": [
            "32/32 [==============================] - 1s 19ms/step - loss: 2.1454 - accuracy: 0.2090\n"
          ]
        },
        {
          "data": {
            "text/plain": [
              "[2.145352363586426, 0.20900000631809235]"
            ]
          },
          "execution_count": 11,
          "metadata": {},
          "output_type": "execute_result"
        }
      ],
      "source": [
        "nn.evaluate(X_test, y_test)"
      ]
    },
    {
      "cell_type": "code",
      "execution_count": null,
      "id": "a77196ba",
      "metadata": {
        "id": "a77196ba",
        "outputId": "f9541dba-3037-4b57-ae23-4697fce108f3"
      },
      "outputs": [
        {
          "name": "stdout",
          "output_type": "stream",
          "text": [
            "Classification Report: \n",
            "               precision    recall  f1-score   support\n",
            "\n",
            "           0       0.24      0.54      0.33       100\n",
            "           1       0.23      0.14      0.17       100\n",
            "           2       0.11      0.04      0.06       100\n",
            "           3       0.00      0.00      0.00       100\n",
            "           4       0.00      0.00      0.00       100\n",
            "           5       0.12      0.35      0.18       100\n",
            "           6       0.22      0.51      0.31       100\n",
            "           7       0.00      0.00      0.00       100\n",
            "           8       0.33      0.41      0.37       100\n",
            "           9       0.25      0.10      0.14       100\n",
            "\n",
            "    accuracy                           0.21      1000\n",
            "   macro avg       0.15      0.21      0.16      1000\n",
            "weighted avg       0.15      0.21      0.16      1000\n",
            "\n"
          ]
        },
        {
          "name": "stderr",
          "output_type": "stream",
          "text": [
            "C:\\ProgramData\\Anaconda3\\lib\\site-packages\\sklearn\\metrics\\_classification.py:1318: UndefinedMetricWarning: Precision and F-score are ill-defined and being set to 0.0 in labels with no predicted samples. Use `zero_division` parameter to control this behavior.\n",
            "  _warn_prf(average, modifier, msg_start, len(result))\n",
            "C:\\ProgramData\\Anaconda3\\lib\\site-packages\\sklearn\\metrics\\_classification.py:1318: UndefinedMetricWarning: Precision and F-score are ill-defined and being set to 0.0 in labels with no predicted samples. Use `zero_division` parameter to control this behavior.\n",
            "  _warn_prf(average, modifier, msg_start, len(result))\n",
            "C:\\ProgramData\\Anaconda3\\lib\\site-packages\\sklearn\\metrics\\_classification.py:1318: UndefinedMetricWarning: Precision and F-score are ill-defined and being set to 0.0 in labels with no predicted samples. Use `zero_division` parameter to control this behavior.\n",
            "  _warn_prf(average, modifier, msg_start, len(result))\n"
          ]
        }
      ],
      "source": [
        "from sklearn.metrics import confusion_matrix, classification_report\n",
        "y_pred = nn.predict(X_test)\n",
        "y_pred_classes = [np.argmax(element) for element in y_pred]\n",
        "\n",
        "print('Classification Report: \\n', classification_report(y_test, y_pred_classes))"
      ]
    },
    {
      "cell_type": "markdown",
      "id": "140b71dd",
      "metadata": {
        "id": "140b71dd"
      },
      "source": [
        "# Convolutional Neural Network"
      ]
    },
    {
      "cell_type": "code",
      "execution_count": null,
      "id": "bb45ef45",
      "metadata": {
        "id": "bb45ef45",
        "outputId": "0af7ada7-aa0e-469f-860d-d7dd5f52eecd"
      },
      "outputs": [
        {
          "name": "stdout",
          "output_type": "stream",
          "text": [
            "Epoch 1/100\n",
            "313/313 [==============================] - 10s 30ms/step - loss: 2.3019 - accuracy: 0.1097\n",
            "Epoch 2/100\n",
            "313/313 [==============================] - 9s 29ms/step - loss: 2.1885 - accuracy: 0.1905\n",
            "Epoch 3/100\n",
            "313/313 [==============================] - 9s 30ms/step - loss: 2.1039 - accuracy: 0.2340\n",
            "Epoch 4/100\n",
            "313/313 [==============================] - 9s 29ms/step - loss: 2.0745 - accuracy: 0.2507\n",
            "Epoch 5/100\n",
            "313/313 [==============================] - 9s 28ms/step - loss: 2.0521 - accuracy: 0.2620\n",
            "Epoch 6/100\n",
            "313/313 [==============================] - 9s 29ms/step - loss: 2.0326 - accuracy: 0.2676\n",
            "Epoch 7/100\n",
            "313/313 [==============================] - 9s 29ms/step - loss: 2.0164 - accuracy: 0.2712\n",
            "Epoch 8/100\n",
            "313/313 [==============================] - 9s 28ms/step - loss: 1.9991 - accuracy: 0.2768\n",
            "Epoch 9/100\n",
            "313/313 [==============================] - 9s 29ms/step - loss: 1.9819 - accuracy: 0.2851\n",
            "Epoch 10/100\n",
            "313/313 [==============================] - 9s 30ms/step - loss: 1.9629 - accuracy: 0.2899\n",
            "Epoch 11/100\n",
            "313/313 [==============================] - 9s 29ms/step - loss: 1.9498 - accuracy: 0.2931\n",
            "Epoch 12/100\n",
            "313/313 [==============================] - 9s 28ms/step - loss: 1.9375 - accuracy: 0.2996\n",
            "Epoch 13/100\n",
            "313/313 [==============================] - 9s 29ms/step - loss: 1.9233 - accuracy: 0.3046\n",
            "Epoch 14/100\n",
            "313/313 [==============================] - 9s 29ms/step - loss: 1.9110 - accuracy: 0.3051\n",
            "Epoch 15/100\n",
            "313/313 [==============================] - 9s 29ms/step - loss: 1.8963 - accuracy: 0.3122\n",
            "Epoch 16/100\n",
            "313/313 [==============================] - 9s 29ms/step - loss: 1.8905 - accuracy: 0.3127\n",
            "Epoch 17/100\n",
            "313/313 [==============================] - 9s 29ms/step - loss: 1.8740 - accuracy: 0.3161\n",
            "Epoch 18/100\n",
            "313/313 [==============================] - 9s 30ms/step - loss: 1.8687 - accuracy: 0.3224\n",
            "Epoch 19/100\n",
            "313/313 [==============================] - 10s 31ms/step - loss: 1.8610 - accuracy: 0.3269\n",
            "Epoch 20/100\n",
            "313/313 [==============================] - 10s 31ms/step - loss: 1.8518 - accuracy: 0.3292\n",
            "Epoch 21/100\n",
            "313/313 [==============================] - 9s 30ms/step - loss: 1.8457 - accuracy: 0.3311\n",
            "Epoch 22/100\n",
            "313/313 [==============================] - 10s 30ms/step - loss: 1.8418 - accuracy: 0.3321\n",
            "Epoch 23/100\n",
            "313/313 [==============================] - 9s 30ms/step - loss: 1.8379 - accuracy: 0.3350\n",
            "Epoch 24/100\n",
            "313/313 [==============================] - 9s 29ms/step - loss: 1.8329 - accuracy: 0.3356\n",
            "Epoch 25/100\n",
            "313/313 [==============================] - 9s 29ms/step - loss: 1.8286 - accuracy: 0.3357\n",
            "Epoch 26/100\n",
            "313/313 [==============================] - 9s 29ms/step - loss: 1.8189 - accuracy: 0.3429\n",
            "Epoch 27/100\n",
            "313/313 [==============================] - 9s 29ms/step - loss: 1.8194 - accuracy: 0.3439\n",
            "Epoch 28/100\n",
            "313/313 [==============================] - 9s 30ms/step - loss: 1.8084 - accuracy: 0.3457\n",
            "Epoch 29/100\n",
            "313/313 [==============================] - 9s 30ms/step - loss: 1.8089 - accuracy: 0.3419\n",
            "Epoch 30/100\n",
            "313/313 [==============================] - 9s 29ms/step - loss: 1.8028 - accuracy: 0.3483\n",
            "Epoch 31/100\n",
            "313/313 [==============================] - 9s 29ms/step - loss: 1.7937 - accuracy: 0.3466\n",
            "Epoch 32/100\n",
            "313/313 [==============================] - 9s 30ms/step - loss: 1.7892 - accuracy: 0.3503\n",
            "Epoch 33/100\n",
            "313/313 [==============================] - 9s 29ms/step - loss: 1.7829 - accuracy: 0.3525\n",
            "Epoch 34/100\n",
            "313/313 [==============================] - 9s 29ms/step - loss: 1.7785 - accuracy: 0.3488\n",
            "Epoch 35/100\n",
            "313/313 [==============================] - 9s 30ms/step - loss: 1.7744 - accuracy: 0.3580\n",
            "Epoch 36/100\n",
            "313/313 [==============================] - 9s 30ms/step - loss: 1.7701 - accuracy: 0.3532\n",
            "Epoch 37/100\n",
            "313/313 [==============================] - 9s 29ms/step - loss: 1.7627 - accuracy: 0.3607\n",
            "Epoch 38/100\n",
            "313/313 [==============================] - 9s 29ms/step - loss: 1.7595 - accuracy: 0.3586\n",
            "Epoch 39/100\n",
            "313/313 [==============================] - 9s 29ms/step - loss: 1.7556 - accuracy: 0.3582\n",
            "Epoch 40/100\n",
            "313/313 [==============================] - 9s 29ms/step - loss: 1.7477 - accuracy: 0.3656\n",
            "Epoch 41/100\n",
            "313/313 [==============================] - 9s 29ms/step - loss: 1.7414 - accuracy: 0.3710\n",
            "Epoch 42/100\n",
            "313/313 [==============================] - 9s 30ms/step - loss: 1.7336 - accuracy: 0.3721\n",
            "Epoch 43/100\n",
            "313/313 [==============================] - 9s 29ms/step - loss: 1.7278 - accuracy: 0.3732\n",
            "Epoch 44/100\n",
            "313/313 [==============================] - 9s 29ms/step - loss: 1.7223 - accuracy: 0.3766\n",
            "Epoch 45/100\n",
            "313/313 [==============================] - 9s 29ms/step - loss: 1.7194 - accuracy: 0.3794\n",
            "Epoch 46/100\n",
            "313/313 [==============================] - 9s 30ms/step - loss: 1.7165 - accuracy: 0.3809\n",
            "Epoch 47/100\n",
            "313/313 [==============================] - 9s 29ms/step - loss: 1.7094 - accuracy: 0.3826\n",
            "Epoch 48/100\n",
            "313/313 [==============================] - 9s 29ms/step - loss: 1.7066 - accuracy: 0.3812\n",
            "Epoch 49/100\n",
            "313/313 [==============================] - 9s 30ms/step - loss: 1.7013 - accuracy: 0.3870\n",
            "Epoch 50/100\n",
            "313/313 [==============================] - 9s 30ms/step - loss: 1.7003 - accuracy: 0.3916\n",
            "Epoch 51/100\n",
            "313/313 [==============================] - 9s 29ms/step - loss: 1.6961 - accuracy: 0.3902\n",
            "Epoch 52/100\n",
            "313/313 [==============================] - 10s 31ms/step - loss: 1.6856 - accuracy: 0.3928\n",
            "Epoch 53/100\n",
            "313/313 [==============================] - 9s 30ms/step - loss: 1.6837 - accuracy: 0.3948\n",
            "Epoch 54/100\n",
            "313/313 [==============================] - 9s 30ms/step - loss: 1.6778 - accuracy: 0.3989\n",
            "Epoch 55/100\n",
            "313/313 [==============================] - 9s 30ms/step - loss: 1.6763 - accuracy: 0.3935\n",
            "Epoch 56/100\n",
            "313/313 [==============================] - 9s 30ms/step - loss: 1.6707 - accuracy: 0.4000\n",
            "Epoch 57/100\n",
            "313/313 [==============================] - 9s 30ms/step - loss: 1.6681 - accuracy: 0.4058\n",
            "Epoch 58/100\n",
            "313/313 [==============================] - 9s 29ms/step - loss: 1.6677 - accuracy: 0.4018\n",
            "Epoch 59/100\n",
            "313/313 [==============================] - 9s 30ms/step - loss: 1.6576 - accuracy: 0.4067\n",
            "Epoch 60/100\n",
            "313/313 [==============================] - 9s 30ms/step - loss: 1.6631 - accuracy: 0.4052\n",
            "Epoch 61/100\n",
            "313/313 [==============================] - 9s 29ms/step - loss: 1.6542 - accuracy: 0.4084\n",
            "Epoch 62/100\n",
            "313/313 [==============================] - 9s 29ms/step - loss: 1.6521 - accuracy: 0.4080\n",
            "Epoch 63/100\n",
            "313/313 [==============================] - 9s 29ms/step - loss: 1.6512 - accuracy: 0.4069\n",
            "Epoch 64/100\n",
            "313/313 [==============================] - 9s 29ms/step - loss: 1.6500 - accuracy: 0.4098\n",
            "Epoch 65/100\n",
            "313/313 [==============================] - 10s 32ms/step - loss: 1.6429 - accuracy: 0.4121\n",
            "Epoch 66/100\n",
            "313/313 [==============================] - 11s 35ms/step - loss: 1.6395 - accuracy: 0.4140\n",
            "Epoch 67/100\n",
            "313/313 [==============================] - 10s 31ms/step - loss: 1.6362 - accuracy: 0.4180\n",
            "Epoch 68/100\n",
            "313/313 [==============================] - 10s 32ms/step - loss: 1.6350 - accuracy: 0.4156\n",
            "Epoch 69/100\n",
            "313/313 [==============================] - 10s 33ms/step - loss: 1.6340 - accuracy: 0.4160\n",
            "Epoch 70/100\n",
            "313/313 [==============================] - 10s 32ms/step - loss: 1.6398 - accuracy: 0.4167\n",
            "Epoch 71/100\n",
            "313/313 [==============================] - 9s 30ms/step - loss: 1.6293 - accuracy: 0.4184\n",
            "Epoch 72/100\n",
            "313/313 [==============================] - 10s 31ms/step - loss: 1.6271 - accuracy: 0.4231\n",
            "Epoch 73/100\n",
            "313/313 [==============================] - 10s 32ms/step - loss: 1.6218 - accuracy: 0.4222\n",
            "Epoch 74/100\n",
            "313/313 [==============================] - 10s 32ms/step - loss: 1.6253 - accuracy: 0.4204\n",
            "Epoch 75/100\n",
            "313/313 [==============================] - 10s 31ms/step - loss: 1.6232 - accuracy: 0.4221\n",
            "Epoch 76/100\n",
            "313/313 [==============================] - 10s 30ms/step - loss: 1.6212 - accuracy: 0.4234\n",
            "Epoch 77/100\n",
            "313/313 [==============================] - 10s 30ms/step - loss: 1.6201 - accuracy: 0.4246\n",
            "Epoch 78/100\n",
            "313/313 [==============================] - 9s 30ms/step - loss: 1.6129 - accuracy: 0.4267\n",
            "Epoch 79/100\n",
            "313/313 [==============================] - 9s 30ms/step - loss: 1.6136 - accuracy: 0.4262\n",
            "Epoch 80/100\n"
          ]
        },
        {
          "name": "stdout",
          "output_type": "stream",
          "text": [
            "313/313 [==============================] - 9s 30ms/step - loss: 1.6151 - accuracy: 0.4256\n",
            "Epoch 81/100\n",
            "313/313 [==============================] - 9s 29ms/step - loss: 1.6067 - accuracy: 0.4285\n",
            "Epoch 82/100\n",
            "313/313 [==============================] - 9s 29ms/step - loss: 1.6084 - accuracy: 0.4287\n",
            "Epoch 83/100\n",
            "313/313 [==============================] - 9s 29ms/step - loss: 1.6062 - accuracy: 0.4304\n",
            "Epoch 84/100\n",
            "313/313 [==============================] - 9s 29ms/step - loss: 1.6046 - accuracy: 0.4331\n",
            "Epoch 85/100\n",
            "313/313 [==============================] - 9s 29ms/step - loss: 1.6022 - accuracy: 0.4328\n",
            "Epoch 86/100\n",
            "313/313 [==============================] - 9s 29ms/step - loss: 1.5998 - accuracy: 0.4337\n",
            "Epoch 87/100\n",
            "313/313 [==============================] - 9s 29ms/step - loss: 1.5969 - accuracy: 0.4365\n",
            "Epoch 88/100\n",
            "313/313 [==============================] - 9s 29ms/step - loss: 1.6005 - accuracy: 0.4311\n",
            "Epoch 89/100\n",
            "313/313 [==============================] - 9s 29ms/step - loss: 1.5966 - accuracy: 0.4342\n",
            "Epoch 90/100\n",
            "313/313 [==============================] - 9s 29ms/step - loss: 1.5923 - accuracy: 0.4400\n",
            "Epoch 91/100\n",
            "313/313 [==============================] - 9s 29ms/step - loss: 1.5937 - accuracy: 0.4346\n",
            "Epoch 92/100\n",
            "313/313 [==============================] - 9s 29ms/step - loss: 1.5887 - accuracy: 0.4329\n",
            "Epoch 93/100\n",
            "313/313 [==============================] - 9s 29ms/step - loss: 1.5954 - accuracy: 0.4375\n",
            "Epoch 94/100\n",
            "313/313 [==============================] - 9s 29ms/step - loss: 1.5848 - accuracy: 0.4383\n",
            "Epoch 95/100\n",
            "313/313 [==============================] - 9s 29ms/step - loss: 1.5821 - accuracy: 0.4418\n",
            "Epoch 96/100\n",
            "313/313 [==============================] - 9s 29ms/step - loss: 1.5815 - accuracy: 0.4388\n",
            "Epoch 97/100\n",
            "313/313 [==============================] - 9s 29ms/step - loss: 1.5824 - accuracy: 0.4413\n",
            "Epoch 98/100\n",
            "313/313 [==============================] - 9s 29ms/step - loss: 1.5790 - accuracy: 0.4354\n",
            "Epoch 99/100\n",
            "313/313 [==============================] - 9s 29ms/step - loss: 1.5760 - accuracy: 0.4441\n",
            "Epoch 100/100\n",
            "313/313 [==============================] - 9s 29ms/step - loss: 1.5734 - accuracy: 0.4412\n"
          ]
        },
        {
          "data": {
            "text/plain": [
              "<keras.callbacks.History at 0x2830d09efa0>"
            ]
          },
          "execution_count": 13,
          "metadata": {},
          "output_type": "execute_result"
        }
      ],
      "source": [
        "cnn = models.Sequential([\n",
        "    # CNN Layers\n",
        "    layers.Conv2D(filters=32, activation='relu', kernel_size=(3,3), input_shape=(32, 32, 3)),\n",
        "    layers.MaxPooling2D((2, 2)),\n",
        "    layers.Conv2D(filters=64, activation='relu', kernel_size=(3,3)),\n",
        "    layers.MaxPooling2D((2, 2)),\n",
        "    \n",
        "    # Dense Layers\n",
        "    layers.Flatten(),\n",
        "    layers.Dense(64, activation='relu'),\n",
        "    layers.Dense(10, activation='softmax')\n",
        "])\n",
        "\n",
        "cnn.compile(optimizer='adam',\n",
        "          loss='sparse_categorical_crossentropy',\n",
        "          metrics=['accuracy'])\n",
        "cnn.fit(X_train, y_train, epochs=100)"
      ]
    },
    {
      "cell_type": "code",
      "execution_count": null,
      "id": "818ba95d",
      "metadata": {
        "id": "818ba95d",
        "outputId": "fbfa6030-bc7b-4ad2-bd07-4512ab6f499c"
      },
      "outputs": [
        {
          "name": "stdout",
          "output_type": "stream",
          "text": [
            "32/32 [==============================] - 0s 9ms/step - loss: 1.6959 - accuracy: 0.4050\n"
          ]
        },
        {
          "data": {
            "text/plain": [
              "[1.6959182024002075, 0.4050000011920929]"
            ]
          },
          "execution_count": 14,
          "metadata": {},
          "output_type": "execute_result"
        }
      ],
      "source": [
        "cnn.evaluate(X_test, y_test)"
      ]
    },
    {
      "cell_type": "markdown",
      "id": "0fc02c59",
      "metadata": {
        "id": "0fc02c59"
      },
      "source": [
        "# Test CNN on isolated samples"
      ]
    },
    {
      "cell_type": "code",
      "execution_count": null,
      "id": "8f2c5148",
      "metadata": {
        "id": "8f2c5148"
      },
      "outputs": [],
      "source": [
        "# Flatten y_test\n",
        "y_test = y_test.reshape(-1,)"
      ]
    },
    {
      "cell_type": "code",
      "execution_count": null,
      "id": "56e6fcc3",
      "metadata": {
        "id": "56e6fcc3",
        "outputId": "8e9b2e1e-4a77-4ee5-c646-d29c9160019b"
      },
      "outputs": [
        {
          "data": {
            "image/png": "[encoded data removed]",
            "text/plain": [
              "<Figure size 1080x144 with 1 Axes>"
            ]
          },
          "metadata": {
            "needs_background": "light"
          },
          "output_type": "display_data"
        }
      ],
      "source": [
        "plot_image(X_test, y_test, 1)"
      ]
    },
    {
      "cell_type": "code",
      "execution_count": null,
      "id": "8102aa3e",
      "metadata": {
        "id": "8102aa3e",
        "outputId": "86d38900-e589-4002-c82f-4805273fa6c7"
      },
      "outputs": [
        {
          "data": {
            "text/plain": [
              "[0, 0, 9, 0, 0, 0, 0, 7, 8, 0]"
            ]
          },
          "execution_count": 17,
          "metadata": {},
          "output_type": "execute_result"
        }
      ],
      "source": [
        "y_pred = cnn.predict(X_test)\n",
        "y_classes = [np.argmax(element) for element in y_pred]\n",
        "y_classes[:10]"
      ]
    },
    {
      "cell_type": "code",
      "execution_count": null,
      "id": "b8276750",
      "metadata": {
        "id": "b8276750",
        "outputId": "3c0f56df-416f-4baa-96e4-8b413ddc228e"
      },
      "outputs": [
        {
          "data": {
            "text/plain": [
              "array([0, 0, 0, 0, 0, 0, 0, 0, 0, 0], dtype=uint8)"
            ]
          },
          "execution_count": 18,
          "metadata": {},
          "output_type": "execute_result"
        }
      ],
      "source": [
        "y_test[:10]"
      ]
    },
    {
      "cell_type": "code",
      "execution_count": null,
      "id": "7be66786",
      "metadata": {
        "id": "7be66786",
        "outputId": "2fe89598-491b-4437-90d4-d70bdbd4f397"
      },
      "outputs": [
        {
          "data": {
            "text/plain": [
              "'truck'"
            ]
          },
          "execution_count": 19,
          "metadata": {},
          "output_type": "execute_result"
        }
      ],
      "source": [
        "classes[y_classes[8]]"
      ]
    },
    {
      "cell_type": "code",
      "execution_count": null,
      "id": "4b14b4f3",
      "metadata": {
        "id": "4b14b4f3",
        "outputId": "fd44960d-20e2-40a2-8469-079cd830dbd1"
      },
      "outputs": [
        {
          "name": "stdout",
          "output_type": "stream",
          "text": [
            "Classification Report: \n",
            "               precision    recall  f1-score   support\n",
            "\n",
            "           0       0.41      0.59      0.48       100\n",
            "           1       0.53      0.31      0.39       100\n",
            "           2       0.31      0.30      0.31       100\n",
            "           3       0.38      0.13      0.19       100\n",
            "           4       0.35      0.39      0.37       100\n",
            "           5       0.45      0.33      0.38       100\n",
            "           6       0.38      0.62      0.47       100\n",
            "           7       0.35      0.33      0.34       100\n",
            "           8       0.43      0.60      0.50       100\n",
            "           9       0.51      0.45      0.48       100\n",
            "\n",
            "    accuracy                           0.41      1000\n",
            "   macro avg       0.41      0.40      0.39      1000\n",
            "weighted avg       0.41      0.41      0.39      1000\n",
            "\n"
          ]
        }
      ],
      "source": [
        "print('Classification Report: \\n', classification_report(y_test, y_classes))"
      ]
    },
    {
      "cell_type": "markdown",
      "id": "11b85fb7",
      "metadata": {
        "id": "11b85fb7"
      },
      "source": [
        "The test accuracy fo ANN fo 100 epochs was 21% whereas, the test accuracy of CNN for same number of epochs was 41%. Although, the accuracy for CNN was nuch better then that of ANN, but it is still very very low. The reason for such low accuracy is that the dataset is not ver simple. Plus, the available dataset is also very little\n",
        "\n",
        "Also, the computation  speed of CNN is also very low compared to the ANN"
      ]
    },
    {
      "cell_type": "code",
      "execution_count": null,
      "id": "f3fe0c68",
      "metadata": {
        "id": "f3fe0c68"
      },
      "outputs": [],
      "source": []
    }
  ],
  "metadata": {
    "kernelspec": {
      "display_name": "Python 3",
      "language": "python",
      "name": "python3"
    },
    "language_info": {
      "codemirror_mode": {
        "name": "ipython",
        "version": 3
      },
      "file_extension": ".py",
      "mimetype": "text/x-python",
      "name": "python",
      "nbconvert_exporter": "python",
      "pygments_lexer": "ipython3",
      "version": "3.8.8"
    },
    "colab": {
      "provenance": []
    }
  },
  "nbformat": 4,
  "nbformat_minor": 5
}